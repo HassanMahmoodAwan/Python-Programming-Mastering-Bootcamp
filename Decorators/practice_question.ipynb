{
 "cells": [
  {
   "cell_type": "markdown",
   "metadata": {},
   "source": [
    "Question: Take name and age as input from user and then Print it using decorator."
   ]
  },
  {
   "cell_type": "code",
   "execution_count": 18,
   "metadata": {},
   "outputs": [],
   "source": [
    "def output_format(function):\n",
    "    return f'The name of the person is {function()[0]} and the age is {function()[1]}.'\n",
    "    "
   ]
  },
  {
   "cell_type": "code",
   "execution_count": 19,
   "metadata": {},
   "outputs": [
    {
     "name": "stdout",
     "output_type": "stream",
     "text": [
      "The name of the person is Hassan and the age is 22.\n"
     ]
    }
   ],
   "source": [
    "\n",
    "def use_input():\n",
    "    name = input('Enter name')\n",
    "    age = input('Enter name')\n",
    "    @output_format\n",
    "    def func():\n",
    "        return name, age\n",
    "    return func\n",
    "\n",
    "print(use_input())"
   ]
  }
 ],
 "metadata": {
  "kernelspec": {
   "display_name": "venv",
   "language": "python",
   "name": "python3"
  },
  "language_info": {
   "codemirror_mode": {
    "name": "ipython",
    "version": 3
   },
   "file_extension": ".py",
   "mimetype": "text/x-python",
   "name": "python",
   "nbconvert_exporter": "python",
   "pygments_lexer": "ipython3",
   "version": "3.11.6"
  }
 },
 "nbformat": 4,
 "nbformat_minor": 2
}
