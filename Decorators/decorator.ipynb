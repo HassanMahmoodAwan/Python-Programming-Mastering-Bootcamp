{
 "cells": [
  {
   "cell_type": "code",
   "execution_count": 10,
   "metadata": {},
   "outputs": [],
   "source": [
    "def jsonify_decorator(function):\n",
    "    def modifyOutput():\n",
    "        return {\"output\":function()}\n",
    "    return modifyOutput\n"
   ]
  },
  {
   "cell_type": "code",
   "execution_count": 11,
   "metadata": {},
   "outputs": [
    {
     "name": "stdout",
     "output_type": "stream",
     "text": [
      "{'output': 'hello world'}\n"
     ]
    }
   ],
   "source": [
    "@jsonify_decorator\n",
    "def hello():\n",
    "    return 'hello world'\n",
    "\n",
    "print(hello())"
   ]
  },
  {
   "cell_type": "code",
   "execution_count": 13,
   "metadata": {},
   "outputs": [
    {
     "name": "stdout",
     "output_type": "stream",
     "text": [
      "{'output': 30}\n"
     ]
    }
   ],
   "source": [
    "@jsonify_decorator\n",
    "def add(x = 10, y = 20):\n",
    "    return x + y\n",
    "\n",
    "print(add())   # decorator take zero positional arg, give error add(13, 21)"
   ]
  }
 ],
 "metadata": {
  "kernelspec": {
   "display_name": "venv",
   "language": "python",
   "name": "python3"
  },
  "language_info": {
   "codemirror_mode": {
    "name": "ipython",
    "version": 3
   },
   "file_extension": ".py",
   "mimetype": "text/x-python",
   "name": "python",
   "nbconvert_exporter": "python",
   "pygments_lexer": "ipython3",
   "version": "3.11.6"
  }
 },
 "nbformat": 4,
 "nbformat_minor": 2
}
