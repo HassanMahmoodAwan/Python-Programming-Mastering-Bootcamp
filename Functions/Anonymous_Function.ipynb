{
 "cells": [
  {
   "cell_type": "markdown",
   "metadata": {},
   "source": [
    "# Anonymous Function\n",
    "1. Def keyword for Normal Function\n",
    "1. Lambda Keyword for Anonymous Function.\n",
    "\n",
    "Function used for not reuseablity, created at one stage and finish.\n",
    "\n",
    "Note:\n",
    " - Assigning Lambda Function to variable not prefer as it work as normal Func.\n",
    " - Mostly used with Pandas in data Processing and analysis.  \n",
    "\n",
    "\n"
   ]
  },
  {
   "cell_type": "code",
   "execution_count": 3,
   "metadata": {},
   "outputs": [
    {
     "name": "stdout",
     "output_type": "stream",
     "text": [
      "1000\n"
     ]
    }
   ],
   "source": [
    "cube = lambda x: x**3\n",
    "\n",
    "print(cube(10))"
   ]
  }
 ],
 "metadata": {
  "kernelspec": {
   "display_name": "venv",
   "language": "python",
   "name": "python3"
  },
  "language_info": {
   "codemirror_mode": {
    "name": "ipython",
    "version": 3
   },
   "file_extension": ".py",
   "mimetype": "text/x-python",
   "name": "python",
   "nbconvert_exporter": "python",
   "pygments_lexer": "ipython3",
   "version": "3.11.6"
  }
 },
 "nbformat": 4,
 "nbformat_minor": 2
}
